{
 "cells": [
  {
   "cell_type": "markdown",
   "id": "984fa254",
   "metadata": {},
   "source": [
    "DDL Scripts"
   ]
  },
  {
   "cell_type": "code",
   "execution_count": null,
   "id": "620734f9",
   "metadata": {},
   "outputs": [],
   "source": [
    "%%bqsql\n",
    "CREATE or replace TABLE `salesforce-465614.cust_analytics.dim_customers` (\n",
    "  customer_id STRING NOT NULL,\n",
    "  first_name STRING,\n",
    "  last_name STRING,\n",
    "  gender STRING,\n",
    "  age INT64,\n",
    "  signup_date DATE,\n",
    "  loyalty_program STRING,\n",
    "  email STRING,\n",
    "  city STRING,\n",
    "  state STRING,\n",
    "  country STRING,\n",
    "  start_date DATE,\n",
    "  end_date DATE,\n",
    "  is_current BOOL\n",
    ");\n",
    "\n",
    "CREATE OR REPLACE TABLE `salesforce-465614.cust_analytics.dim_products` (\n",
    "  product_id STRING NOT NULL,\n",
    "  product_name STRING,\n",
    "  category STRING,\n",
    "  sub_category STRING,\n",
    "  price FLOAT64,\n",
    "  start_date DATE,\n",
    "  end_date DATE,\n",
    "  is_current BOOL\n",
    ");\n",
    "\n",
    "CREATE OR REPLACE TABLE `salesforce-465614.cust_analytics.dim_stores` (\n",
    "  store_id STRING NOT NULL,\n",
    "  store_type STRING,\n",
    "  store_location STRING,\n",
    "  region STRING,\n",
    "  start_date DATE,\n",
    "  end_date DATE,\n",
    "  is_current BOOL\n",
    ");\n",
    "CREATE OR REPLACE TABLE `salesforce-465614.cust_analytics.fact_transactions` (\n",
    "    transaction_id STRING NOT NULL,\n",
    "    customer_id STRING,\n",
    "    product_id STRING,\n",
    "    Store_Location STRING,\n",
    "    Purchase_Date DATE,\n",
    "\tUnit_Price FLOAT64,\n",
    "    quantity INT64,\n",
    "   Total_Price FLOAT64,\n",
    "     Payment_Method STRING,\n",
    "     Order_Status STRING,\n",
    "     start_date DATE,\n",
    "    end_date DATE,\n",
    "    is_current BOOL\n",
    "\t);\n"
   ]
  }
 ],
 "metadata": {
  "kernelspec": {
   "display_name": "Python 3",
   "language": "python",
   "name": "python3"
  },
  "language_info": {
   "name": "python",
   "version": "3.12.4"
  }
 },
 "nbformat": 4,
 "nbformat_minor": 5
}
