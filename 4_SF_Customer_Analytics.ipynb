{
 "cells": [
  {
   "cell_type": "code",
   "execution_count": 2,
   "id": "f56dc2b3",
   "metadata": {},
   "outputs": [
    {
     "name": "stdout",
     "output_type": "stream",
     "text": [
      "Note: you may need to restart the kernel to use updated packages.\n"
     ]
    },
    {
     "name": "stderr",
     "output_type": "stream",
     "text": [
      "\n",
      "[notice] A new release of pip is available: 24.0 -> 25.1.1\n",
      "[notice] To update, run: python.exe -m pip install --upgrade pip\n"
     ]
    },
    {
     "name": "stdout",
     "output_type": "stream",
     "text": [
      "Note: you may need to restart the kernel to use updated packages.\n"
     ]
    },
    {
     "name": "stderr",
     "output_type": "stream",
     "text": [
      "\n",
      "[notice] A new release of pip is available: 24.0 -> 25.1.1\n",
      "[notice] To update, run: python.exe -m pip install --upgrade pip\n",
      "\n",
      "[notice] A new release of pip is available: 24.0 -> 25.1.1\n",
      "[notice] To update, run: python.exe -m pip install --upgrade pip\n"
     ]
    },
    {
     "name": "stdout",
     "output_type": "stream",
     "text": [
      "Note: you may need to restart the kernel to use updated packages.\n"
     ]
    }
   ],
   "source": [
    "# Install BigQuery client library (run this cell once)\n",
    "%pip install google-cloud-bigquery --quiet\n",
    "%pip install bigquery-magics --quiet\n",
    "%pip install db-dtypes --quiet\n",
    "# Import libraries\n",
    "from google.cloud import bigquery\n",
    "import pandas as pd\n",
    "%load_ext bigquery_magics\n",
    "import db_dtypes\n",
    "import os\n",
    "os.environ[\"GOOGLE_APPLICATION_CREDENTIALS\"] = \"salesforce-465614-2cf9e37da64b.json\"\n",
    "from google.cloud import bigquery\n",
    "# Initialize BigQuery client\n",
    "client = bigquery.Client()"
   ]
  },
  {
   "cell_type": "markdown",
   "id": "7d24fd5f",
   "metadata": {},
   "source": [
    "<b>DQ for Stage_Customers</b>"
   ]
  },
  {
   "cell_type": "markdown",
   "id": "5dc5bf69",
   "metadata": {},
   "source": [
    "<b> Duplicate check for customer IDs</b>"
   ]
  },
  {
   "cell_type": "code",
   "execution_count": 35,
   "id": "31c195ec",
   "metadata": {},
   "outputs": [
    {
     "data": {
      "application/vnd.jupyter.widget-view+json": {
       "model_id": "582bc15aeeb546a09fcb2269a7ee32b1",
       "version_major": 2,
       "version_minor": 0
      },
      "text/plain": [
       "Query is running:   0%|          |"
      ]
     },
     "metadata": {},
     "output_type": "display_data"
    },
    {
     "data": {
      "application/vnd.jupyter.widget-view+json": {
       "model_id": "9d867550df99414dba5bbb8013a74cad",
       "version_major": 2,
       "version_minor": 0
      },
      "text/plain": [
       "Downloading:   0%|          |"
      ]
     },
     "metadata": {},
     "output_type": "display_data"
    },
    {
     "data": {
      "text/html": [
       "<div>\n",
       "<style scoped>\n",
       "    .dataframe tbody tr th:only-of-type {\n",
       "        vertical-align: middle;\n",
       "    }\n",
       "\n",
       "    .dataframe tbody tr th {\n",
       "        vertical-align: top;\n",
       "    }\n",
       "\n",
       "    .dataframe thead th {\n",
       "        text-align: right;\n",
       "    }\n",
       "</style>\n",
       "<table border=\"1\" class=\"dataframe\">\n",
       "  <thead>\n",
       "    <tr style=\"text-align: right;\">\n",
       "      <th></th>\n",
       "      <th>customer_id</th>\n",
       "      <th>f0_</th>\n",
       "    </tr>\n",
       "  </thead>\n",
       "  <tbody>\n",
       "    <tr>\n",
       "      <th>0</th>\n",
       "      <td>2ea0add8-4c7e-45b8-8b5c-193872b7557a</td>\n",
       "      <td>2</td>\n",
       "    </tr>\n",
       "    <tr>\n",
       "      <th>1</th>\n",
       "      <td>9a33f82f-60bd-4d41-accb-77a52f830d09</td>\n",
       "      <td>2</td>\n",
       "    </tr>\n",
       "  </tbody>\n",
       "</table>\n",
       "</div>"
      ],
      "text/plain": [
       "                            customer_id  f0_\n",
       "0  2ea0add8-4c7e-45b8-8b5c-193872b7557a    2\n",
       "1  9a33f82f-60bd-4d41-accb-77a52f830d09    2"
      ]
     },
     "execution_count": 35,
     "metadata": {},
     "output_type": "execute_result"
    }
   ],
   "source": [
    "%%bqsql\n",
    "select customer_id,count(1) from salesforce-465614.cust_analytics.stage_customers \n",
    "group by customer_id having count(1)>1  limit 2"
   ]
  },
  {
   "cell_type": "markdown",
   "id": "3c28727a",
   "metadata": {},
   "source": [
    "<b>#signup date is in future.</b>"
   ]
  },
  {
   "cell_type": "code",
   "execution_count": 37,
   "id": "453d0b8d",
   "metadata": {},
   "outputs": [
    {
     "data": {
      "application/vnd.jupyter.widget-view+json": {
       "model_id": "577f110e230545a18efcc2d64c1a4080",
       "version_major": 2,
       "version_minor": 0
      },
      "text/plain": [
       "Query is running:   0%|          |"
      ]
     },
     "metadata": {},
     "output_type": "display_data"
    },
    {
     "data": {
      "application/vnd.jupyter.widget-view+json": {
       "model_id": "98ce2465e23a44a2a4744b007c41f1be",
       "version_major": 2,
       "version_minor": 0
      },
      "text/plain": [
       "Downloading:   0%|          |"
      ]
     },
     "metadata": {},
     "output_type": "display_data"
    },
    {
     "data": {
      "text/html": [
       "<div>\n",
       "<style scoped>\n",
       "    .dataframe tbody tr th:only-of-type {\n",
       "        vertical-align: middle;\n",
       "    }\n",
       "\n",
       "    .dataframe tbody tr th {\n",
       "        vertical-align: top;\n",
       "    }\n",
       "\n",
       "    .dataframe thead th {\n",
       "        text-align: right;\n",
       "    }\n",
       "</style>\n",
       "<table border=\"1\" class=\"dataframe\">\n",
       "  <thead>\n",
       "    <tr style=\"text-align: right;\">\n",
       "      <th></th>\n",
       "      <th>f0_</th>\n",
       "    </tr>\n",
       "  </thead>\n",
       "  <tbody>\n",
       "    <tr>\n",
       "      <th>0</th>\n",
       "      <td>5</td>\n",
       "    </tr>\n",
       "  </tbody>\n",
       "</table>\n",
       "</div>"
      ],
      "text/plain": [
       "   f0_\n",
       "0    5"
      ]
     },
     "execution_count": 37,
     "metadata": {},
     "output_type": "execute_result"
    }
   ],
   "source": [
    "%%bqsql\n",
    "select count(1) from salesforce-465614.cust_analytics.stage_customers where date(signup_date) > current_date();"
   ]
  },
  {
   "cell_type": "code",
   "execution_count": 39,
   "id": "92428d0b",
   "metadata": {},
   "outputs": [
    {
     "data": {
      "application/vnd.jupyter.widget-view+json": {
       "model_id": "354f756a22e34b969078d83aa414845e",
       "version_major": 2,
       "version_minor": 0
      },
      "text/plain": [
       "Query is running:   0%|          |"
      ]
     },
     "metadata": {},
     "output_type": "display_data"
    },
    {
     "data": {
      "text/html": [
       "<div>\n",
       "<style scoped>\n",
       "    .dataframe tbody tr th:only-of-type {\n",
       "        vertical-align: middle;\n",
       "    }\n",
       "\n",
       "    .dataframe tbody tr th {\n",
       "        vertical-align: top;\n",
       "    }\n",
       "\n",
       "    .dataframe thead th {\n",
       "        text-align: right;\n",
       "    }\n",
       "</style>\n",
       "<table border=\"1\" class=\"dataframe\">\n",
       "  <thead>\n",
       "    <tr style=\"text-align: right;\">\n",
       "      <th></th>\n",
       "    </tr>\n",
       "  </thead>\n",
       "  <tbody>\n",
       "  </tbody>\n",
       "</table>\n",
       "</div>"
      ],
      "text/plain": [
       "Empty DataFrame\n",
       "Columns: []\n",
       "Index: []"
      ]
     },
     "execution_count": 39,
     "metadata": {},
     "output_type": "execute_result"
    }
   ],
   "source": [
    "%%bqsql\n",
    "delete from salesforce-465614.cust_analytics.stage_customers where age < 15 or age > 100"
   ]
  },
  {
   "cell_type": "code",
   "execution_count": 41,
   "id": "a895a9ec",
   "metadata": {},
   "outputs": [
    {
     "data": {
      "application/vnd.jupyter.widget-view+json": {
       "model_id": "5ae9c804e5664a00808ba27e5cc5c3f5",
       "version_major": 2,
       "version_minor": 0
      },
      "text/plain": [
       "Query is running:   0%|          |"
      ]
     },
     "metadata": {},
     "output_type": "display_data"
    },
    {
     "data": {
      "application/vnd.jupyter.widget-view+json": {
       "model_id": "2362aa1a71da4e17a88532920b82a066",
       "version_major": 2,
       "version_minor": 0
      },
      "text/plain": [
       "Downloading:   0%|          |"
      ]
     },
     "metadata": {},
     "output_type": "display_data"
    },
    {
     "data": {
      "text/html": [
       "<div>\n",
       "<style scoped>\n",
       "    .dataframe tbody tr th:only-of-type {\n",
       "        vertical-align: middle;\n",
       "    }\n",
       "\n",
       "    .dataframe tbody tr th {\n",
       "        vertical-align: top;\n",
       "    }\n",
       "\n",
       "    .dataframe thead th {\n",
       "        text-align: right;\n",
       "    }\n",
       "</style>\n",
       "<table border=\"1\" class=\"dataframe\">\n",
       "  <thead>\n",
       "    <tr style=\"text-align: right;\">\n",
       "      <th></th>\n",
       "      <th>store_id</th>\n",
       "      <th>store_type</th>\n",
       "      <th>store_location</th>\n",
       "      <th>region</th>\n",
       "    </tr>\n",
       "  </thead>\n",
       "  <tbody>\n",
       "    <tr>\n",
       "      <th>0</th>\n",
       "      <td>STORE_2</td>\n",
       "      <td>Online</td>\n",
       "      <td>None</td>\n",
       "      <td>East</td>\n",
       "    </tr>\n",
       "    <tr>\n",
       "      <th>1</th>\n",
       "      <td>STORE_6</td>\n",
       "      <td>Online</td>\n",
       "      <td>None</td>\n",
       "      <td>East</td>\n",
       "    </tr>\n",
       "  </tbody>\n",
       "</table>\n",
       "</div>"
      ],
      "text/plain": [
       "  store_id store_type store_location region\n",
       "0  STORE_2     Online           None   East\n",
       "1  STORE_6     Online           None   East"
      ]
     },
     "execution_count": 41,
     "metadata": {},
     "output_type": "execute_result"
    }
   ],
   "source": [
    "%%bqsql\n",
    "select * from salesforce-465614.cust_analytics.stage_stores limit 2"
   ]
  },
  {
   "cell_type": "code",
   "execution_count": 3,
   "id": "e578ae11",
   "metadata": {},
   "outputs": [
    {
     "name": "stderr",
     "output_type": "stream",
     "text": [
      "c:\\Users\\Home\\AppData\\Local\\Programs\\Python\\Python312\\Lib\\site-packages\\google\\cloud\\bigquery\\table.py:1957: UserWarning: BigQuery Storage module not found, fetch data with the REST endpoint instead.\n",
      "  warnings.warn(\n"
     ]
    }
   ],
   "source": [
    "query = \"SELECT * FROM `salesforce-465614.cust_analytics.report_transactions`\"\n",
    "df_transactions = client.query(query).to_dataframe()"
   ]
  },
  {
   "cell_type": "code",
   "execution_count": 11,
   "id": "dbd09a52",
   "metadata": {},
   "outputs": [
    {
     "data": {
      "text/html": [
       "<div>\n",
       "<style scoped>\n",
       "    .dataframe tbody tr th:only-of-type {\n",
       "        vertical-align: middle;\n",
       "    }\n",
       "\n",
       "    .dataframe tbody tr th {\n",
       "        vertical-align: top;\n",
       "    }\n",
       "\n",
       "    .dataframe thead th {\n",
       "        text-align: right;\n",
       "    }\n",
       "</style>\n",
       "<table border=\"1\" class=\"dataframe\">\n",
       "  <thead>\n",
       "    <tr style=\"text-align: right;\">\n",
       "      <th></th>\n",
       "      <th>transaction_id</th>\n",
       "      <th>customer_id</th>\n",
       "      <th>product_id</th>\n",
       "      <th>Store_id</th>\n",
       "      <th>order_status</th>\n",
       "      <th>Purchase_Date</th>\n",
       "      <th>category</th>\n",
       "      <th>sub_category</th>\n",
       "      <th>Unit_Price</th>\n",
       "      <th>quantity</th>\n",
       "      <th>Total_Price</th>\n",
       "      <th>payment_method</th>\n",
       "      <th>channel</th>\n",
       "      <th>loyalty_program</th>\n",
       "      <th>age</th>\n",
       "      <th>gender</th>\n",
       "      <th>city</th>\n",
       "      <th>age_group</th>\n",
       "    </tr>\n",
       "  </thead>\n",
       "  <tbody>\n",
       "    <tr>\n",
       "      <th>0</th>\n",
       "      <td>T553600</td>\n",
       "      <td>C299</td>\n",
       "      <td>P965</td>\n",
       "      <td>STORE_22</td>\n",
       "      <td>Completed</td>\n",
       "      <td>2024-04-29</td>\n",
       "      <td>Books</td>\n",
       "      <td>Children</td>\n",
       "      <td>326.79</td>\n",
       "      <td>6</td>\n",
       "      <td>1960.74</td>\n",
       "      <td>Bank Transfer</td>\n",
       "      <td>Physical</td>\n",
       "      <td>true</td>\n",
       "      <td>52</td>\n",
       "      <td>Female</td>\n",
       "      <td>Josephfurt</td>\n",
       "      <td>45-54</td>\n",
       "    </tr>\n",
       "    <tr>\n",
       "      <th>1</th>\n",
       "      <td>T553887</td>\n",
       "      <td>C785</td>\n",
       "      <td>P28</td>\n",
       "      <td>STORE_15</td>\n",
       "      <td>Completed</td>\n",
       "      <td>2024-04-29</td>\n",
       "      <td>Toys</td>\n",
       "      <td>Educational</td>\n",
       "      <td>202.12</td>\n",
       "      <td>4</td>\n",
       "      <td>808.48</td>\n",
       "      <td>Bank Transfer</td>\n",
       "      <td>Physical</td>\n",
       "      <td>false</td>\n",
       "      <td>26</td>\n",
       "      <td>Male</td>\n",
       "      <td>West Jacob</td>\n",
       "      <td>25-34</td>\n",
       "    </tr>\n",
       "  </tbody>\n",
       "</table>\n",
       "</div>"
      ],
      "text/plain": [
       "  transaction_id customer_id product_id  Store_id order_status Purchase_Date  \\\n",
       "0        T553600        C299       P965  STORE_22    Completed    2024-04-29   \n",
       "1        T553887        C785        P28  STORE_15    Completed    2024-04-29   \n",
       "\n",
       "  category sub_category  Unit_Price  quantity  Total_Price payment_method  \\\n",
       "0    Books     Children      326.79         6      1960.74  Bank Transfer   \n",
       "1     Toys  Educational      202.12         4       808.48  Bank Transfer   \n",
       "\n",
       "    channel loyalty_program  age  gender        city age_group  \n",
       "0  Physical            true   52  Female  Josephfurt     45-54  \n",
       "1  Physical           false   26    Male  West Jacob     25-34  "
      ]
     },
     "execution_count": 11,
     "metadata": {},
     "output_type": "execute_result"
    }
   ],
   "source": [
    "df_transactions.head(2)"
   ]
  },
  {
   "cell_type": "code",
   "execution_count": null,
   "id": "aad1c59c",
   "metadata": {},
   "outputs": [
    {
     "name": "stdout",
     "output_type": "stream",
     "text": [
      "Total Transactions: 20000\n",
      "Total Sales: 55911634.36\n",
      "Average Order Value: 2795.58\n",
      "Unique Customers: 2000\n",
      "Completed Orders: 13432\n",
      "Cancelled Orders: 6568\n"
     ]
    }
   ],
   "source": [
    "total_transactions = len(df_transactions)\n",
    "total_sales = df_transactions['Total_Price'].sum()\n",
    "average_order_value = df_transactions['Total_Price'].mean()\n",
    "unique_customers = df_transactions['customer_id'].nunique()\n",
    "completed_orders = df_transactions[df_transactions['order_status'] == 'Completed'].shape[0]\n",
    "cancelled_orders = df_transactions[df_transactions['order_status'] == 'Cancelled'].shape[0]\n",
    "\n",
    "print(f\"Total Transactions: {total_transactions}\")\n",
    "print(f\"Total Sales: {total_sales:.2f}\")\n",
    "print(f\"Average Order Value: {average_order_value:.2f}\")\n",
    "print(f\"Unique Customers: {unique_customers}\")\n",
    "print(f\"Completed Orders: {completed_orders}\")\n",
    "print(f\"Cancelled Orders: {cancelled_orders}\")"
   ]
  },
  {
   "cell_type": "code",
   "execution_count": 24,
   "id": "35e35b47",
   "metadata": {},
   "outputs": [
    {
     "data": {
      "text/html": [
       "<div>\n",
       "<style scoped>\n",
       "    .dataframe tbody tr th:only-of-type {\n",
       "        vertical-align: middle;\n",
       "    }\n",
       "\n",
       "    .dataframe tbody tr th {\n",
       "        vertical-align: top;\n",
       "    }\n",
       "\n",
       "    .dataframe thead th {\n",
       "        text-align: right;\n",
       "    }\n",
       "</style>\n",
       "<table border=\"1\" class=\"dataframe\">\n",
       "  <thead>\n",
       "    <tr style=\"text-align: right;\">\n",
       "      <th></th>\n",
       "      <th>Purchase_Date</th>\n",
       "      <th>Unit_Price</th>\n",
       "      <th>quantity</th>\n",
       "      <th>Total_Price</th>\n",
       "      <th>age</th>\n",
       "    </tr>\n",
       "  </thead>\n",
       "  <tbody>\n",
       "    <tr>\n",
       "      <th>count</th>\n",
       "      <td>20000</td>\n",
       "      <td>20000.000000</td>\n",
       "      <td>20000.0</td>\n",
       "      <td>20000.000000</td>\n",
       "      <td>20000.0</td>\n",
       "    </tr>\n",
       "    <tr>\n",
       "      <th>mean</th>\n",
       "      <td>2024-04-18 10:42:18.720000</td>\n",
       "      <td>508.455915</td>\n",
       "      <td>5.48555</td>\n",
       "      <td>2795.581718</td>\n",
       "      <td>49.09735</td>\n",
       "    </tr>\n",
       "    <tr>\n",
       "      <th>min</th>\n",
       "      <td>2023-09-24 00:00:00</td>\n",
       "      <td>11.540000</td>\n",
       "      <td>1.0</td>\n",
       "      <td>11.540000</td>\n",
       "      <td>18.0</td>\n",
       "    </tr>\n",
       "    <tr>\n",
       "      <th>25%</th>\n",
       "      <td>2024-02-05 00:00:00</td>\n",
       "      <td>241.690000</td>\n",
       "      <td>3.0</td>\n",
       "      <td>904.300000</td>\n",
       "      <td>33.0</td>\n",
       "    </tr>\n",
       "    <tr>\n",
       "      <th>50%</th>\n",
       "      <td>2024-04-24 00:00:00</td>\n",
       "      <td>529.420000</td>\n",
       "      <td>5.0</td>\n",
       "      <td>2246.820000</td>\n",
       "      <td>49.0</td>\n",
       "    </tr>\n",
       "    <tr>\n",
       "      <th>75%</th>\n",
       "      <td>2024-07-08 00:00:00</td>\n",
       "      <td>759.650000</td>\n",
       "      <td>8.0</td>\n",
       "      <td>4293.300000</td>\n",
       "      <td>66.0</td>\n",
       "    </tr>\n",
       "    <tr>\n",
       "      <th>max</th>\n",
       "      <td>2024-09-23 00:00:00</td>\n",
       "      <td>997.380000</td>\n",
       "      <td>10.0</td>\n",
       "      <td>9973.800000</td>\n",
       "      <td>80.0</td>\n",
       "    </tr>\n",
       "    <tr>\n",
       "      <th>std</th>\n",
       "      <td>NaN</td>\n",
       "      <td>271.109346</td>\n",
       "      <td>2.870854</td>\n",
       "      <td>2231.165574</td>\n",
       "      <td>18.349897</td>\n",
       "    </tr>\n",
       "  </tbody>\n",
       "</table>\n",
       "</div>"
      ],
      "text/plain": [
       "                    Purchase_Date    Unit_Price  quantity   Total_Price  \\\n",
       "count                       20000  20000.000000   20000.0  20000.000000   \n",
       "mean   2024-04-18 10:42:18.720000    508.455915   5.48555   2795.581718   \n",
       "min           2023-09-24 00:00:00     11.540000       1.0     11.540000   \n",
       "25%           2024-02-05 00:00:00    241.690000       3.0    904.300000   \n",
       "50%           2024-04-24 00:00:00    529.420000       5.0   2246.820000   \n",
       "75%           2024-07-08 00:00:00    759.650000       8.0   4293.300000   \n",
       "max           2024-09-23 00:00:00    997.380000      10.0   9973.800000   \n",
       "std                           NaN    271.109346  2.870854   2231.165574   \n",
       "\n",
       "             age  \n",
       "count    20000.0  \n",
       "mean    49.09735  \n",
       "min         18.0  \n",
       "25%         33.0  \n",
       "50%         49.0  \n",
       "75%         66.0  \n",
       "max         80.0  \n",
       "std    18.349897  "
      ]
     },
     "execution_count": 24,
     "metadata": {},
     "output_type": "execute_result"
    }
   ],
   "source": [
    "df_transactions.describe()"
   ]
  },
  {
   "cell_type": "code",
   "execution_count": 7,
   "id": "714f8c41",
   "metadata": {},
   "outputs": [],
   "source": [
    "import matplotlib.pyplot as plt\n",
    "import seaborn as sns\n",
    "import numpy as np"
   ]
  },
  {
   "cell_type": "code",
   "execution_count": null,
   "id": "6bb30985",
   "metadata": {},
   "outputs": [
    {
     "data": {
      "image/png": "[encoded data removed]",
      "text/plain": [
       "<Figure size 800x500 with 1 Axes>"
      ]
     },
     "metadata": {},
     "output_type": "display_data"
    },
    {
     "data": {
      "image/png": "[encoded data removed]",
      "text/plain": [
       "<Figure size 600x400 with 1 Axes>"
      ]
     },
     "metadata": {},
     "output_type": "display_data"
    },
    {
     "data": {
      "image/png": "[encoded data removed]",
      "text/plain": [
       "<Figure size 600x400 with 1 Axes>"
      ]
     },
     "metadata": {},
     "output_type": "display_data"
    }
   ],
   "source": [
    "%matplotlib inline\n",
    "\n",
    "# 1. Distribution of Order Value\n",
    "plt.figure(figsize=(8,5))\n",
    "sns.histplot(df_transactions['Total_Price'], bins=50, kde=True)\n",
    "plt.title('Order Value Distribution')\n",
    "plt.xlabel('Total Price')\n",
    "plt.ylabel('Number of Orders')\n",
    "plt.show()\n",
    "\n",
    "# 2. Order Status Counts\n",
    "plt.figure(figsize=(6,4))\n",
    "sns.countplot(data=df_transactions, x='order_status')\n",
    "plt.title('Order Status Counts')\n",
    "plt.xlabel('Order Status')\n",
    "plt.ylabel('Count')\n",
    "plt.show()\n",
    "\n",
    "# 3. Sales Over Time\n",
    "if 'order_date' in df_transactions.columns:\n",
    "    df_transactions['order_date'] = pd.to_datetime(df_transactions['order_date'])\n",
    "    sales_by_date = df_transactions.groupby(df_transactions['order_date'].dt.date)['Total_Price'].sum()\n",
    "    plt.figure(figsize=(10,6))\n",
    "    sales_by_date.plot()\n",
    "    plt.title('Total Sales Over Time')\n",
    "    plt.xlabel('Date')\n",
    "    plt.ylabel('Total Sales')\n",
    "    plt.show()\n",
    "\n",
    "# 4. Average Order Value by Order Status\n",
    "plt.figure(figsize=(6,4))\n",
    "sns.barplot(\n",
    "    data=df_transactions,\n",
    "    x='order_status',\n",
    "    y='Total_Price',\n",
    "    estimator='mean'\n",
    ")\n",
    "plt.title('Average Order Value by Order Status')\n",
    "plt.xlabel('Order Status')\n",
    "plt.ylabel('Average Total Price')\n",
    "plt.show()"
   ]
  },
  {
   "cell_type": "code",
   "execution_count": 8,
   "id": "893a434a",
   "metadata": {},
   "outputs": [
    {
     "name": "stderr",
     "output_type": "stream",
     "text": [
      "C:\\Users\\Home\\AppData\\Local\\Temp\\ipykernel_16736\\2144935593.py:8: FutureWarning: The default of observed=False is deprecated and will be changed to True in a future version of pandas. Pass observed=False to retain current behavior or observed=True to adopt the future default and silence this warning.\n",
      "  age_group_counts = df_transactions.groupby('age_group')['customer_id'].nunique()\n"
     ]
    },
    {
     "data": {
      "image/png": "[encoded data removed]",
      "text/plain": [
       "<Figure size 800x500 with 1 Axes>"
      ]
     },
     "metadata": {},
     "output_type": "display_data"
    },
    {
     "name": "stderr",
     "output_type": "stream",
     "text": [
      "C:\\Users\\Home\\AppData\\Local\\Temp\\ipykernel_16736\\2144935593.py:15: FutureWarning: The default of observed=False is deprecated and will be changed to True in a future version of pandas. Pass observed=False to retain current behavior or observed=True to adopt the future default and silence this warning.\n",
      "  age_group_sales = df_transactions.groupby('age_group')['Total_Price'].sum()\n"
     ]
    },
    {
     "data": {
      "image/png": "[encoded data removed]",
      "text/plain": [
       "<Figure size 800x500 with 1 Axes>"
      ]
     },
     "metadata": {},
     "output_type": "display_data"
    },
    {
     "name": "stderr",
     "output_type": "stream",
     "text": [
      "C:\\Users\\Home\\AppData\\Local\\Temp\\ipykernel_16736\\2144935593.py:22: FutureWarning: The default of observed=False is deprecated and will be changed to True in a future version of pandas. Pass observed=False to retain current behavior or observed=True to adopt the future default and silence this warning.\n",
      "  age_group_avg_order = df_transactions.groupby('age_group')['Total_Price'].mean()\n"
     ]
    },
    {
     "data": {
      "image/png": "[encoded data removed]",
      "text/plain": [
       "<Figure size 800x500 with 1 Axes>"
      ]
     },
     "metadata": {},
     "output_type": "display_data"
    }
   ],
   "source": [
    "\n",
    "# 1. Age Group Analysis\n",
    "if 'age' in df_transactions.columns:\n",
    "    bins = [0, 18, 25, 35, 45, 55, 65, 100]\n",
    "    labels = ['<18', '18-24', '25-34', '35-44', '45-54', '55-64', '65+']\n",
    "    df_transactions['age_group'] = pd.cut(df_transactions['age'], bins=bins, labels=labels, right=False)\n",
    "    \n",
    "    # Customers by Age Group\n",
    "    age_group_counts = df_transactions.groupby('age_group')['customer_id'].nunique()\n",
    "    age_group_counts.plot(kind='bar', figsize=(8,5), title='Unique Customers by Age Group')\n",
    "    plt.xlabel('Age Group')\n",
    "    plt.ylabel('Number of Customers')\n",
    "    plt.show()\n",
    "    \n",
    "    # Total Sales by Age Group\n",
    "    age_group_sales = df_transactions.groupby('age_group')['Total_Price'].sum()\n",
    "    age_group_sales.plot(kind='bar', figsize=(8,5), title='Total Sales by Age Group')\n",
    "    plt.xlabel('Age Group')\n",
    "    plt.ylabel('Total Sales')\n",
    "    plt.show()\n",
    "    \n",
    "    # Average Order Value by Age Group\n",
    "    age_group_avg_order = df_transactions.groupby('age_group')['Total_Price'].mean()\n",
    "    age_group_avg_order.plot(kind='bar', figsize=(8,5), title='Average Order Value by Age Group')\n",
    "    plt.xlabel('Age Group')\n",
    "    plt.ylabel('Average Order Value')\n",
    "    plt.show()\n",
    "\n",
    "# 2. Customers by Stores\n",
    "if 'store_id' in df_transactions.columns:\n",
    "    store_customer_counts = df_transactions.groupby('store_id')['customer_id'].nunique().sort_values(ascending=False)\n",
    "    store_customer_counts.plot(kind='bar', figsize=(12,6), title='Unique Customers per Store')\n",
    "    plt.xlabel('Store ID')\n",
    "    plt.ylabel('Unique Customers')\n",
    "    plt.show()\n",
    "\n",
    "# 3. Store Sales Performance\n",
    "    # Average Sales per Store\n",
    "    store_avg_sales = df_transactions.groupby('store_id')['Total_Price'].mean().sort_values(ascending=False)\n",
    "    store_avg_sales.plot(kind='bar', figsize=(12,6), title='Average Sales Value per Store')\n",
    "    plt.xlabel('Store ID')\n",
    "    plt.ylabel('Average Sales Value')\n",
    "    plt.show()\n",
    "    \n",
    "    # Top 5 Stores by Total Sales\n",
    "    store_total_sales = df_transactions.groupby('store_id')['Total_Price'].sum().sort_values(ascending=False).head(5)\n",
    "    store_total_sales.plot(kind='bar', figsize=(8,5), title='Top 5 Stores by Total Sales')\n",
    "    plt.xlabel('Store ID')\n",
    "    plt.ylabel('Total Sales')\n",
    "    plt.show()"
   ]
  },
  {
   "cell_type": "code",
   "execution_count": null,
   "id": "e85fe807",
   "metadata": {},
   "outputs": [
    {
     "name": "stdout",
     "output_type": "stream",
     "text": [
      "age_group\n",
      "65+      525\n",
      "45-54    320\n",
      "35-44    317\n",
      "55-64    297\n",
      "25-34    296\n",
      "18-24    245\n",
      "<18        0\n",
      "Name: customer_id, dtype: int64\n"
     ]
    },
    {
     "name": "stderr",
     "output_type": "stream",
     "text": [
      "C:\\Users\\Home\\AppData\\Local\\Temp\\ipykernel_16736\\2610518690.py:14: FutureWarning: The default of observed=False is deprecated and will be changed to True in a future version of pandas. Pass observed=False to retain current behavior or observed=True to adopt the future default and silence this warning.\n",
      "  returning_by_agegroup = returning_df.groupby('age_group')['customer_id'].nunique().sort_values(ascending=False)\n"
     ]
    }
   ],
   "source": [
    "# age groups\n",
    "bins = [0, 18, 25, 35, 45, 55, 65, 100]\n",
    "labels = ['<18', '18-24', '25-34', '35-44', '45-54', '55-64', '65+']\n",
    "df_transactions['age_group'] = pd.cut(df_transactions['age'], bins=bins, labels=labels, right=False)\n",
    "\n",
    "# Identify returning customers\n",
    "purchase_counts = df_transactions.groupby('customer_id').size().reset_index(name='purchase_count')\n",
    "returning_customers = purchase_counts[purchase_counts['purchase_count'] > 1]['customer_id']\n",
    "\n",
    "# Merge to get age group for returning customers\n",
    "returning_df = df_transactions[df_transactions['customer_id'].isin(returning_customers)][['customer_id', 'age_group']].drop_duplicates()\n",
    "\n",
    "# Count returning customers by age group\n",
    "returning_by_agegroup = returning_df.groupby('age_group')['customer_id'].nunique().sort_values(ascending=False)\n",
    "\n",
    "print(returning_by_agegroup)"
   ]
  },
  {
   "cell_type": "markdown",
   "id": "1d1fb686",
   "metadata": {},
   "source": [
    "Assuming if customer purchased from a store recently and Age of customer is above 65+, chances of future purchase is high"
   ]
  },
  {
   "cell_type": "code",
   "execution_count": null,
   "id": "06351e17",
   "metadata": {},
   "outputs": [],
   "source": [
    "snapshot_date = pd.Timestamp('2024-09-30')\n",
    "\n",
    "df_transactions['Purchase_Date'] = pd.to_datetime(df_transactions['Purchase_Date'])\n",
    "last_purchase['days_since_last'] = (snapshot_date - last_purchase['Purchase_Date']).dt.days\n",
    "\n",
    "# Customers with days_since_last < 30 \n",
    "likely_customers = last_purchase[last_purchase['days_since_last'] < 30]"
   ]
  },
  {
   "cell_type": "code",
   "execution_count": 22,
   "id": "f413d2f6",
   "metadata": {},
   "outputs": [
    {
     "data": {
      "text/plain": [
       "customer_id  Purchase_Date  days_since_last\n",
       "C999         2024-09-03     27                 1\n",
       "C1           2024-09-03     27                 1\n",
       "C10          2024-09-13     17                 1\n",
       "C100         2024-09-18     12                 1\n",
       "C1001        2024-09-23     7                  1\n",
       "                                              ..\n",
       "C1012        2024-09-23     7                  1\n",
       "C101         2024-09-18     12                 1\n",
       "C1008        2024-09-21     9                  1\n",
       "C1006        2024-09-11     19                 1\n",
       "C1005        2024-09-12     18                 1\n",
       "Name: count, Length: 1078, dtype: int64"
      ]
     },
     "execution_count": 22,
     "metadata": {},
     "output_type": "execute_result"
    }
   ],
   "source": [
    "likely_customers.value_counts()"
   ]
  },
  {
   "cell_type": "code",
   "execution_count": null,
   "id": "19680c3d",
   "metadata": {},
   "outputs": [
    {
     "name": "stdout",
     "output_type": "stream",
     "text": [
      "     customer_id Purchase_Date  days_since_last  age\n",
      "4          C1001    2024-09-23                7   72\n",
      "11         C1008    2024-09-21                9   73\n",
      "13          C101    2024-09-18               12   80\n",
      "23         C1019    2024-09-14               16   72\n",
      "27         C1022    2024-09-21                9   77\n",
      "...          ...           ...              ...  ...\n",
      "1983        C984    2024-09-05               25   66\n",
      "1984        C985    2024-09-18               12   77\n",
      "1989         C99    2024-09-03               27   70\n",
      "1993        C993    2024-09-12               18   76\n",
      "1994        C994    2024-09-16               14   78\n",
      "\n",
      "[267 rows x 4 columns]\n"
     ]
    }
   ],
   "source": [
    "snapshot_date = pd.Timestamp('2024-09-30')\n",
    "df_transactions['Purchase_Date'] = pd.to_datetime(df_transactions['Purchase_Date'])\n",
    "\n",
    "# Get last purchase per customer\n",
    "last_purchase = df_transactions.groupby('customer_id')['Purchase_Date'].max().reset_index()\n",
    "# Calculate days since last purchase\n",
    "last_purchase['days_since_last'] = (snapshot_date - last_purchase['Purchase_Date']).dt.days\n",
    "# Get customer ages \n",
    "customer_age = df_transactions[['customer_id', 'age']].drop_duplicates()\n",
    "# Merge age into last_purchase\n",
    "last_purchase = last_purchase.merge(customer_age, on='customer_id', how='left')\n",
    "# Filter likely customers (days_since_last < 30 and age > 65)\n",
    "likely_senior_customers = last_purchase[(last_purchase['days_since_last'] < 30) & (last_purchase['age'] > 65)]\n",
    "\n",
    "print(likely_senior_customers)"
   ]
  }
 ],
 "metadata": {
  "kernelspec": {
   "display_name": "Python 3",
   "language": "python",
   "name": "python3"
  },
  "language_info": {
   "codemirror_mode": {
    "name": "ipython",
    "version": 3
   },
   "file_extension": ".py",
   "mimetype": "text/x-python",
   "name": "python",
   "nbconvert_exporter": "python",
   "pygments_lexer": "ipython3",
   "version": "3.12.4"
  }
 },
 "nbformat": 4,
 "nbformat_minor": 5
}
