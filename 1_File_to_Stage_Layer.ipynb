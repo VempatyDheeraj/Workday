{
 "cells": [
  {
   "cell_type": "code",
   "execution_count": null,
   "id": "940ea282",
   "metadata": {},
   "outputs": [
    {
     "name": "stdout",
     "output_type": "stream",
     "text": [
      "Note: you may need to restart the kernel to use updated packages.\n"
     ]
    },
    {
     "name": "stderr",
     "output_type": "stream",
     "text": [
      "\n",
      "[notice] A new release of pip is available: 24.0 -> 25.1.1\n",
      "[notice] To update, run: python.exe -m pip install --upgrade pip\n"
     ]
    },
    {
     "name": "stdout",
     "output_type": "stream",
     "text": [
      "Note: you may need to restart the kernel to use updated packages.\n"
     ]
    },
    {
     "name": "stderr",
     "output_type": "stream",
     "text": [
      "\n",
      "[notice] A new release of pip is available: 24.0 -> 25.1.1\n",
      "[notice] To update, run: python.exe -m pip install --upgrade pip\n"
     ]
    },
    {
     "name": "stdout",
     "output_type": "stream",
     "text": [
      "Note: you may need to restart the kernel to use updated packages.\n",
      "The bigquery_magics extension is already loaded. To reload it, use:\n",
      "  %reload_ext bigquery_magics\n"
     ]
    },
    {
     "name": "stderr",
     "output_type": "stream",
     "text": [
      "\n",
      "[notice] A new release of pip is available: 24.0 -> 25.1.1\n",
      "[notice] To update, run: python.exe -m pip install --upgrade pip\n"
     ]
    }
   ],
   "source": [
    "# Install BigQuery client library (run this cell once)\n",
    "%pip install google-cloud-bigquery --quiet\n",
    "%pip install bigquery-magics --quiet\n",
    "%pip install db-dtypes --quiet\n",
    "# Import libraries\n",
    "from google.cloud import bigquery\n",
    "import pandas as pd\n",
    "%load_ext bigquery_magics\n",
    "import db_dtypes\n",
    "import os\n",
    "os.environ[\"GOOGLE_APPLICATION_CREDENTIALS\"] = \"salesforce-465614-2cf9e37da64b.json\"\n",
    "from google.cloud import bigquery\n",
    "# Initialize BigQuery client\n",
    "client = bigquery.Client()\n"
   ]
  },
  {
   "cell_type": "markdown",
   "id": "718b2a35",
   "metadata": {},
   "source": [
    "<b>Truncate Stage tables before loading from CSV's</b>"
   ]
  },
  {
   "cell_type": "code",
   "execution_count": null,
   "id": "7e529e3d",
   "metadata": {},
   "outputs": [
    {
     "data": {
      "application/vnd.jupyter.widget-view+json": {
       "model_id": "19aa826df43649459bb103fa2e88b508",
       "version_major": 2,
       "version_minor": 0
      },
      "text/plain": [
       "Query is running:   0%|          |"
      ]
     },
     "metadata": {},
     "output_type": "display_data"
    },
    {
     "data": {
      "text/html": [
       "<div>\n",
       "<style scoped>\n",
       "    .dataframe tbody tr th:only-of-type {\n",
       "        vertical-align: middle;\n",
       "    }\n",
       "\n",
       "    .dataframe tbody tr th {\n",
       "        vertical-align: top;\n",
       "    }\n",
       "\n",
       "    .dataframe thead th {\n",
       "        text-align: right;\n",
       "    }\n",
       "</style>\n",
       "<table border=\"1\" class=\"dataframe\">\n",
       "  <thead>\n",
       "    <tr style=\"text-align: right;\">\n",
       "      <th></th>\n",
       "    </tr>\n",
       "  </thead>\n",
       "  <tbody>\n",
       "  </tbody>\n",
       "</table>\n",
       "</div>"
      ],
      "text/plain": [
       "Empty DataFrame\n",
       "Columns: []\n",
       "Index: []"
      ]
     },
     "metadata": {},
     "output_type": "display_data"
    }
   ],
   "source": [
    "%%bqsql\n",
    "truncate table salesforce-465614.cust_analytics.stage_transactions;\n",
    "truncate table salesforce-465614.cust_analytics.stage_customers;\n",
    "truncate table salesforce-465614.cust_analytics.stage_products;\n",
    "truncate table salesforce-465614.cust_analytics.stage_stores;"
   ]
  },
  {
   "cell_type": "markdown",
   "id": "9a20be8b",
   "metadata": {},
   "source": [
    "<b>Entry in ETL Job Monitoring table</b>"
   ]
  },
  {
   "cell_type": "code",
   "execution_count": 4,
   "id": "c6d377ad",
   "metadata": {},
   "outputs": [
    {
     "name": "stderr",
     "output_type": "stream",
     "text": [
      "C:\\Users\\Home\\AppData\\Local\\Temp\\ipykernel_20164\\1991522017.py:7: DeprecationWarning: datetime.datetime.utcnow() is deprecated and scheduled for removal in a future version. Use timezone-aware objects to represent datetimes in UTC: datetime.datetime.now(datetime.UTC).\n",
      "  job_run_date = datetime.utcnow().date()\n",
      "C:\\Users\\Home\\AppData\\Local\\Temp\\ipykernel_20164\\1991522017.py:8: DeprecationWarning: datetime.datetime.utcnow() is deprecated and scheduled for removal in a future version. Use timezone-aware objects to represent datetimes in UTC: datetime.datetime.now(datetime.UTC).\n",
      "  start_time = datetime.utcnow()\n"
     ]
    },
    {
     "data": {
      "text/plain": [
       "<google.cloud.bigquery.table._EmptyRowIterator at 0x1e7e699e3c0>"
      ]
     },
     "execution_count": 4,
     "metadata": {},
     "output_type": "execute_result"
    }
   ],
   "source": [
    "from datetime import datetime\n",
    "from google.cloud import bigquery\n",
    "\n",
    "# Set monitoring table and module name\n",
    "monitoring_table = \"salesforce-465614.cust_analytics.etl_job_monitoring\"\n",
    "module_name = \"File to Stage Layer\"\n",
    "job_run_date = datetime.utcnow().date()\n",
    "start_time = datetime.utcnow()\n",
    "# Insert start record\n",
    "insert_start = f\"\"\"\n",
    "INSERT INTO `{monitoring_table}` (job_run_date, module_name, start_time, status)\n",
    "VALUES (DATE('{job_run_date}'), '{module_name}', TIMESTAMP('{start_time}'), 'Running')\n",
    "\"\"\"\n",
    "client.query(insert_start).result()"
   ]
  },
  {
   "cell_type": "markdown",
   "id": "21db25d6",
   "metadata": {},
   "source": [
    "<b>Loading Stage Tables</b>"
   ]
  },
  {
   "cell_type": "code",
   "execution_count": null,
   "id": "c6c7683a",
   "metadata": {},
   "outputs": [
    {
     "name": "stdout",
     "output_type": "stream",
     "text": [
      "Loaded Transactions.csv to salesforce-465614.cust_analytics.stage_transactions\n"
     ]
    },
    {
     "name": "stderr",
     "output_type": "stream",
     "text": [
      "C:\\Users\\Home\\AppData\\Local\\Temp\\ipykernel_20164\\3381528795.py:31: DeprecationWarning: datetime.datetime.utcnow() is deprecated and scheduled for removal in a future version. Use timezone-aware objects to represent datetimes in UTC: datetime.datetime.now(datetime.UTC).\n",
      "  end_time = datetime.utcnow()\n"
     ]
    }
   ],
   "source": [
    "from google.cloud import bigquery\n",
    "# Initialize BigQuery client\n",
    "client = bigquery.Client()\n",
    "# Define dataset and table names\n",
    "dataset_id = \"cust_analytics\"  \n",
    "file_path = \"v2/\"\n",
    "# Mapping of file names to table names\n",
    "# \"DimCustomer.csv\": \"stage_customers\",\n",
    "# \"DimProduct.csv\": \"stage_products\",\n",
    "# \"DimStore.csv\": \"stage_stores\"\n",
    "file_table_map = {\n",
    "    \"Transactions.csv\": \"stage_transactions\",\n",
    "    \"Customer.csv\": \"stage_customers\",\n",
    "    \"Product.csv\": \"stage_products\",\n",
    "    \"Store.csv\": \"stage_stores\"\n",
    "}\n",
    "\n",
    "# Load each CSV into its respective BigQuery table\n",
    "for file_name, table_name in file_table_map.items():\n",
    "    table_id = f\"{client.project}.{dataset_id}.{table_name}\"\n",
    "    full_file_path = os.path.join(file_path, file_name)\n",
    "    job_config = bigquery.LoadJobConfig(\n",
    "        source_format=bigquery.SourceFormat.CSV,\n",
    "        skip_leading_rows=1,\n",
    "        autodetect=True,\n",
    "        write_disposition=bigquery.WriteDisposition.WRITE_TRUNCATE\n",
    "    )\n",
    "    with open(full_file_path, \"rb\") as source_file:\n",
    "        load_job = client.load_table_from_file(source_file, table_id, job_config=job_config)\n",
    "    load_job.result()  # Wait for the job to complete\n",
    "    print(f\"Loaded {file_name} to {table_id}\")\n",
    "try:\n",
    "    end_time = datetime.utcnow()\n",
    "    update_success = f\"\"\"\n",
    "    UPDATE `{monitoring_table}`\n",
    "    SET end_time = TIMESTAMP('{end_time}'), status = 'Success'\n",
    "    WHERE job_run_date = DATE('{job_run_date}') AND module_name = '{module_name}' AND start_time = TIMESTAMP('{start_time}')\n",
    "    \"\"\"\n",
    "    client.query(update_success).result()\n",
    "except Exception as e:\n",
    "    # Update status as Failed\n",
    "    fail_time = datetime.utcnow()\n",
    "    update_failed = f\"\"\"\n",
    "    UPDATE `{monitoring_table}`\n",
    "    SET end_time = TIMESTAMP('{fail_time}'), status = 'Failed'\n",
    "    WHERE job_run_date = DATE('{job_run_date}') AND module_name = '{module_name}' AND start_time = TIMESTAMP('{start_time}')\n",
    "    \"\"\"\n",
    "    client.query(update_failed).result()\n",
    "    print(\"ETL job failed:\", e)\n",
    "    raise"
   ]
  },
  {
   "cell_type": "markdown",
   "id": "06ad14ff",
   "metadata": {},
   "source": [
    "<b>Data Cleaning before loading to Persistant Tables</b>"
   ]
  },
  {
   "cell_type": "code",
   "execution_count": null,
   "id": "5377b3fd",
   "metadata": {},
   "outputs": [
    {
     "name": "stderr",
     "output_type": "stream",
     "text": [
      "c:\\Users\\Home\\AppData\\Local\\Programs\\Python\\Python312\\Lib\\site-packages\\google\\cloud\\bigquery\\table.py:1957: UserWarning: BigQuery Storage module not found, fetch data with the REST endpoint instead.\n",
      "  warnings.warn(\n"
     ]
    },
    {
     "name": "stdout",
     "output_type": "stream",
     "text": [
      "Not-null counts for stage_customers:\n",
      "customer_id        2000\n",
      "first_name         2000\n",
      "last_name          2000\n",
      "gender             2000\n",
      "age                2000\n",
      "signup_date        2000\n",
      "loyalty_program    2000\n",
      "email              2000\n",
      "city               2000\n",
      "state              2000\n",
      "country            2000\n",
      "dtype: int64\n",
      "----------------------------------------\n",
      "Not-null counts for stage_products:\n",
      "product_id      200\n",
      "product_name    200\n",
      "category        200\n",
      "sub_category    200\n",
      "price           200\n",
      "dtype: int64\n",
      "----------------------------------------\n",
      "Not-null counts for stage_transactions:\n",
      "Transaction_id    20000\n",
      "Customer_ID       20000\n",
      "Product_id        20000\n",
      "Store_Location    20000\n",
      "Purchase_Date     20000\n",
      "Product_Type      20000\n",
      "Unit_Price        20000\n",
      "Quantity          20000\n",
      "Total_Price       20000\n",
      "Payment_Method    20000\n",
      "Channel           20000\n",
      "Order_Status      20000\n",
      "Loyalty_Member    20000\n",
      "Age               20000\n",
      "Gender            20000\n",
      "City              20000\n",
      "dtype: int64\n",
      "----------------------------------------\n",
      "Not-null counts for stage_stores:\n",
      "string_field_0    50\n",
      "string_field_1    50\n",
      "string_field_2    32\n",
      "string_field_3    50\n",
      "dtype: int64\n",
      "----------------------------------------\n"
     ]
    }
   ],
   "source": [
    "# List of stage tables to check\n",
    "stage_tables = [\n",
    "    \"stage_customers\",\n",
    "    \"stage_products\",\n",
    "    \"stage_transactions\",\n",
    "    \"stage_stores\"\n",
    "]\n",
    "# Dictionary to store not-null counts for each table\n",
    "not_null_counts_dict = {}\n",
    "for table in stage_tables:\n",
    "    query = f\"SELECT * FROM `{client.project}.{dataset_id}.{table}`\"\n",
    "    df = client.query(query).to_dataframe()\n",
    "    not_null_counts_dict[table] = df.notnull().sum()\n",
    "# Display not-null counts for each table\n",
    "for table, counts in not_null_counts_dict.items():\n",
    "    print(f\"Not-null counts for {table}:\")\n",
    "    print(counts)\n",
    "    print(\"-\" * 40)"
   ]
  },
  {
   "cell_type": "code",
   "execution_count": null,
   "id": "7cc9461c",
   "metadata": {},
   "outputs": [
    {
     "name": "stdout",
     "output_type": "stream",
     "text": [
      "Primary key duplicates in stage_customers: 0\n",
      "Primary key duplicates in stage_products: 0\n",
      "Primary key duplicates in stage_transactions: 0\n",
      "Primary key duplicates in stage_stores: 0\n",
      "Orphaned transaction records: 0\n",
      "Null values in stage_customers.customer_id: 0\n",
      "Null values in stage_customers.first_name: 0\n",
      "Null values in stage_customers.last_name: 0\n",
      "Null values in stage_customers.gender: 0\n",
      "Null values in stage_customers.age: 0\n",
      "Null values in stage_customers.signup_date: 0\n",
      "Null values in stage_customers.loyalty_program: 0\n",
      "Null values in stage_customers.email: 0\n",
      "Null values in stage_customers.city: 0\n",
      "Null values in stage_customers.state: 0\n",
      "Null values in stage_customers.country: 0\n",
      "Null values in stage_products.product_id: 0\n",
      "Null values in stage_products.product_name: 0\n",
      "Null values in stage_products.category: 0\n",
      "Null values in stage_products.sub_category: 0\n",
      "Null values in stage_products.price: 0\n",
      "Null values in stage_transactions.Transaction_id: 0\n",
      "Null values in stage_transactions.Customer_ID: 0\n",
      "Null values in stage_transactions.Product_id: 0\n",
      "Null values in stage_transactions.Store_id: 0\n",
      "Null values in stage_transactions.Purchase_Date: 0\n",
      "Null values in stage_transactions.Unit_Price: 0\n",
      "Null values in stage_transactions.Quantity: 0\n",
      "Null values in stage_transactions.Total_Price: 0\n",
      "Null values in stage_transactions.Payment_Method: 0\n",
      "Null values in stage_transactions.Order_Status: 0\n",
      "Null values in stage_stores.string_field_0: 0\n",
      "Null values in stage_stores.string_field_1: 0\n",
      "Null values in stage_stores.string_field_2: 18\n",
      "Null values in stage_stores.string_field_3: 0\n",
      "Duplicates removed from stage_customers\n"
     ]
    },
    {
     "ename": "BadRequest",
     "evalue": "400 Partitioning by expressions of type FLOAT64 is not allowed at [4:101]; reason: invalidQuery, location: query, message: Partitioning by expressions of type FLOAT64 is not allowed at [4:101]\n\nLocation: US\nJob ID: 750846a6-eaba-4104-82a5-6c016f045012\n",
     "output_type": "error",
     "traceback": [
      "\u001b[31m---------------------------------------------------------------------------\u001b[39m",
      "\u001b[31mBadRequest\u001b[39m                                Traceback (most recent call last)",
      "\u001b[36mCell\u001b[39m\u001b[36m \u001b[39m\u001b[32mIn[12]\u001b[39m\u001b[32m, line 77\u001b[39m\n\u001b[32m     68\u001b[39m     col_list = \u001b[33m\"\u001b[39m\u001b[33m, \u001b[39m\u001b[33m\"\u001b[39m.join(columns)\n\u001b[32m     69\u001b[39m     delete_duplicates_query = \u001b[33mf\u001b[39m\u001b[33m\"\"\"\u001b[39m\n\u001b[32m     70\u001b[39m \u001b[33m    CREATE OR REPLACE TABLE `\u001b[39m\u001b[38;5;132;01m{\u001b[39;00mtable_ref\u001b[38;5;132;01m}\u001b[39;00m\u001b[33m` AS\u001b[39m\n\u001b[32m     71\u001b[39m \u001b[33m    SELECT * EXCEPT(row_num) FROM (\u001b[39m\n\u001b[32m   (...)\u001b[39m\u001b[32m     75\u001b[39m \u001b[33m    WHERE row_num = 1\u001b[39m\n\u001b[32m     76\u001b[39m \u001b[33m    \u001b[39m\u001b[33m\"\"\"\u001b[39m\n\u001b[32m---> \u001b[39m\u001b[32m77\u001b[39m     \u001b[43mclient\u001b[49m\u001b[43m.\u001b[49m\u001b[43mquery\u001b[49m\u001b[43m(\u001b[49m\u001b[43mdelete_duplicates_query\u001b[49m\u001b[43m)\u001b[49m\u001b[43m.\u001b[49m\u001b[43mresult\u001b[49m\u001b[43m(\u001b[49m\u001b[43m)\u001b[49m\n\u001b[32m     78\u001b[39m     \u001b[38;5;28mprint\u001b[39m(\u001b[33mf\u001b[39m\u001b[33m\"\u001b[39m\u001b[33mDuplicates removed from \u001b[39m\u001b[38;5;132;01m{\u001b[39;00mtable\u001b[38;5;132;01m}\u001b[39;00m\u001b[33m\"\u001b[39m)\n\u001b[32m     79\u001b[39m \u001b[38;5;66;03m# Check for nulls in each column for all stage tables\u001b[39;00m\n",
      "\u001b[36mFile \u001b[39m\u001b[32mc:\\Users\\Home\\AppData\\Local\\Programs\\Python\\Python312\\Lib\\site-packages\\google\\cloud\\bigquery\\job\\query.py:1696\u001b[39m, in \u001b[36mQueryJob.result\u001b[39m\u001b[34m(self, page_size, max_results, retry, timeout, start_index, job_retry)\u001b[39m\n\u001b[32m   1691\u001b[39m     remaining_timeout = \u001b[38;5;28;01mNone\u001b[39;00m\n\u001b[32m   1693\u001b[39m \u001b[38;5;28;01mif\u001b[39;00m remaining_timeout \u001b[38;5;129;01mis\u001b[39;00m \u001b[38;5;28;01mNone\u001b[39;00m:\n\u001b[32m   1694\u001b[39m     \u001b[38;5;66;03m# Since is_job_done() calls jobs.getQueryResults, which is a\u001b[39;00m\n\u001b[32m   1695\u001b[39m     \u001b[38;5;66;03m# long-running API, don't delay the next request at all.\u001b[39;00m\n\u001b[32m-> \u001b[39m\u001b[32m1696\u001b[39m     \u001b[38;5;28;01mwhile\u001b[39;00m \u001b[38;5;129;01mnot\u001b[39;00m \u001b[43mis_job_done\u001b[49m\u001b[43m(\u001b[49m\u001b[43m)\u001b[49m:\n\u001b[32m   1697\u001b[39m         \u001b[38;5;28;01mpass\u001b[39;00m\n\u001b[32m   1698\u001b[39m \u001b[38;5;28;01melse\u001b[39;00m:\n\u001b[32m   1699\u001b[39m     \u001b[38;5;66;03m# Use a monotonic clock since we don't actually care about\u001b[39;00m\n\u001b[32m   1700\u001b[39m     \u001b[38;5;66;03m# daylight savings or similar, just the elapsed time.\u001b[39;00m\n",
      "\u001b[36mFile \u001b[39m\u001b[32mc:\\Users\\Home\\AppData\\Local\\Programs\\Python\\Python312\\Lib\\site-packages\\google\\api_core\\retry\\retry_unary.py:294\u001b[39m, in \u001b[36mRetry.__call__.<locals>.retry_wrapped_func\u001b[39m\u001b[34m(*args, **kwargs)\u001b[39m\n\u001b[32m    290\u001b[39m target = functools.partial(func, *args, **kwargs)\n\u001b[32m    291\u001b[39m sleep_generator = exponential_sleep_generator(\n\u001b[32m    292\u001b[39m     \u001b[38;5;28mself\u001b[39m._initial, \u001b[38;5;28mself\u001b[39m._maximum, multiplier=\u001b[38;5;28mself\u001b[39m._multiplier\n\u001b[32m    293\u001b[39m )\n\u001b[32m--> \u001b[39m\u001b[32m294\u001b[39m \u001b[38;5;28;01mreturn\u001b[39;00m \u001b[43mretry_target\u001b[49m\u001b[43m(\u001b[49m\n\u001b[32m    295\u001b[39m \u001b[43m    \u001b[49m\u001b[43mtarget\u001b[49m\u001b[43m,\u001b[49m\n\u001b[32m    296\u001b[39m \u001b[43m    \u001b[49m\u001b[38;5;28;43mself\u001b[39;49m\u001b[43m.\u001b[49m\u001b[43m_predicate\u001b[49m\u001b[43m,\u001b[49m\n\u001b[32m    297\u001b[39m \u001b[43m    \u001b[49m\u001b[43msleep_generator\u001b[49m\u001b[43m,\u001b[49m\n\u001b[32m    298\u001b[39m \u001b[43m    \u001b[49m\u001b[43mtimeout\u001b[49m\u001b[43m=\u001b[49m\u001b[38;5;28;43mself\u001b[39;49m\u001b[43m.\u001b[49m\u001b[43m_timeout\u001b[49m\u001b[43m,\u001b[49m\n\u001b[32m    299\u001b[39m \u001b[43m    \u001b[49m\u001b[43mon_error\u001b[49m\u001b[43m=\u001b[49m\u001b[43mon_error\u001b[49m\u001b[43m,\u001b[49m\n\u001b[32m    300\u001b[39m \u001b[43m\u001b[49m\u001b[43m)\u001b[49m\n",
      "\u001b[36mFile \u001b[39m\u001b[32mc:\\Users\\Home\\AppData\\Local\\Programs\\Python\\Python312\\Lib\\site-packages\\google\\api_core\\retry\\retry_unary.py:156\u001b[39m, in \u001b[36mretry_target\u001b[39m\u001b[34m(target, predicate, sleep_generator, timeout, on_error, exception_factory, **kwargs)\u001b[39m\n\u001b[32m    152\u001b[39m \u001b[38;5;66;03m# pylint: disable=broad-except\u001b[39;00m\n\u001b[32m    153\u001b[39m \u001b[38;5;66;03m# This function explicitly must deal with broad exceptions.\u001b[39;00m\n\u001b[32m    154\u001b[39m \u001b[38;5;28;01mexcept\u001b[39;00m \u001b[38;5;167;01mException\u001b[39;00m \u001b[38;5;28;01mas\u001b[39;00m exc:\n\u001b[32m    155\u001b[39m     \u001b[38;5;66;03m# defer to shared logic for handling errors\u001b[39;00m\n\u001b[32m--> \u001b[39m\u001b[32m156\u001b[39m     next_sleep = \u001b[43m_retry_error_helper\u001b[49m\u001b[43m(\u001b[49m\n\u001b[32m    157\u001b[39m \u001b[43m        \u001b[49m\u001b[43mexc\u001b[49m\u001b[43m,\u001b[49m\n\u001b[32m    158\u001b[39m \u001b[43m        \u001b[49m\u001b[43mdeadline\u001b[49m\u001b[43m,\u001b[49m\n\u001b[32m    159\u001b[39m \u001b[43m        \u001b[49m\u001b[43msleep_iter\u001b[49m\u001b[43m,\u001b[49m\n\u001b[32m    160\u001b[39m \u001b[43m        \u001b[49m\u001b[43merror_list\u001b[49m\u001b[43m,\u001b[49m\n\u001b[32m    161\u001b[39m \u001b[43m        \u001b[49m\u001b[43mpredicate\u001b[49m\u001b[43m,\u001b[49m\n\u001b[32m    162\u001b[39m \u001b[43m        \u001b[49m\u001b[43mon_error\u001b[49m\u001b[43m,\u001b[49m\n\u001b[32m    163\u001b[39m \u001b[43m        \u001b[49m\u001b[43mexception_factory\u001b[49m\u001b[43m,\u001b[49m\n\u001b[32m    164\u001b[39m \u001b[43m        \u001b[49m\u001b[43mtimeout\u001b[49m\u001b[43m,\u001b[49m\n\u001b[32m    165\u001b[39m \u001b[43m    \u001b[49m\u001b[43m)\u001b[49m\n\u001b[32m    166\u001b[39m     \u001b[38;5;66;03m# if exception not raised, sleep before next attempt\u001b[39;00m\n\u001b[32m    167\u001b[39m     time.sleep(next_sleep)\n",
      "\u001b[36mFile \u001b[39m\u001b[32mc:\\Users\\Home\\AppData\\Local\\Programs\\Python\\Python312\\Lib\\site-packages\\google\\api_core\\retry\\retry_base.py:214\u001b[39m, in \u001b[36m_retry_error_helper\u001b[39m\u001b[34m(exc, deadline, sleep_iterator, error_list, predicate_fn, on_error_fn, exc_factory_fn, original_timeout)\u001b[39m\n\u001b[32m    208\u001b[39m \u001b[38;5;28;01mif\u001b[39;00m \u001b[38;5;129;01mnot\u001b[39;00m predicate_fn(exc):\n\u001b[32m    209\u001b[39m     final_exc, source_exc = exc_factory_fn(\n\u001b[32m    210\u001b[39m         error_list,\n\u001b[32m    211\u001b[39m         RetryFailureReason.NON_RETRYABLE_ERROR,\n\u001b[32m    212\u001b[39m         original_timeout,\n\u001b[32m    213\u001b[39m     )\n\u001b[32m--> \u001b[39m\u001b[32m214\u001b[39m     \u001b[38;5;28;01mraise\u001b[39;00m final_exc \u001b[38;5;28;01mfrom\u001b[39;00m\u001b[38;5;250m \u001b[39m\u001b[34;01msource_exc\u001b[39;00m\n\u001b[32m    215\u001b[39m \u001b[38;5;28;01mif\u001b[39;00m on_error_fn \u001b[38;5;129;01mis\u001b[39;00m \u001b[38;5;129;01mnot\u001b[39;00m \u001b[38;5;28;01mNone\u001b[39;00m:\n\u001b[32m    216\u001b[39m     on_error_fn(exc)\n",
      "\u001b[36mFile \u001b[39m\u001b[32mc:\\Users\\Home\\AppData\\Local\\Programs\\Python\\Python312\\Lib\\site-packages\\google\\api_core\\retry\\retry_unary.py:147\u001b[39m, in \u001b[36mretry_target\u001b[39m\u001b[34m(target, predicate, sleep_generator, timeout, on_error, exception_factory, **kwargs)\u001b[39m\n\u001b[32m    145\u001b[39m \u001b[38;5;28;01mwhile\u001b[39;00m \u001b[38;5;28;01mTrue\u001b[39;00m:\n\u001b[32m    146\u001b[39m     \u001b[38;5;28;01mtry\u001b[39;00m:\n\u001b[32m--> \u001b[39m\u001b[32m147\u001b[39m         result = \u001b[43mtarget\u001b[49m\u001b[43m(\u001b[49m\u001b[43m)\u001b[49m\n\u001b[32m    148\u001b[39m         \u001b[38;5;28;01mif\u001b[39;00m inspect.isawaitable(result):\n\u001b[32m    149\u001b[39m             warnings.warn(_ASYNC_RETRY_WARNING)\n",
      "\u001b[36mFile \u001b[39m\u001b[32mc:\\Users\\Home\\AppData\\Local\\Programs\\Python\\Python312\\Lib\\site-packages\\google\\cloud\\bigquery\\job\\query.py:1645\u001b[39m, in \u001b[36mQueryJob.result.<locals>.is_job_done\u001b[39m\u001b[34m()\u001b[39m\n\u001b[32m   1622\u001b[39m \u001b[38;5;28;01mif\u001b[39;00m job_failed_exception \u001b[38;5;129;01mis\u001b[39;00m \u001b[38;5;129;01mnot\u001b[39;00m \u001b[38;5;28;01mNone\u001b[39;00m:\n\u001b[32m   1623\u001b[39m     \u001b[38;5;66;03m# Only try to restart the query job if the job failed for\u001b[39;00m\n\u001b[32m   1624\u001b[39m     \u001b[38;5;66;03m# a retriable reason. For example, don't restart the query\u001b[39;00m\n\u001b[32m   (...)\u001b[39m\u001b[32m   1642\u001b[39m     \u001b[38;5;66;03m# into an exception that can be processed by the\u001b[39;00m\n\u001b[32m   1643\u001b[39m     \u001b[38;5;66;03m# `job_retry` predicate.\u001b[39;00m\n\u001b[32m   1644\u001b[39m     restart_query_job = \u001b[38;5;28;01mTrue\u001b[39;00m\n\u001b[32m-> \u001b[39m\u001b[32m1645\u001b[39m     \u001b[38;5;28;01mraise\u001b[39;00m job_failed_exception\n\u001b[32m   1646\u001b[39m \u001b[38;5;28;01melse\u001b[39;00m:\n\u001b[32m   1647\u001b[39m     \u001b[38;5;66;03m# Make sure that the _query_results are cached so we\u001b[39;00m\n\u001b[32m   1648\u001b[39m     \u001b[38;5;66;03m# can return a complete RowIterator.\u001b[39;00m\n\u001b[32m   (...)\u001b[39m\u001b[32m   1654\u001b[39m     \u001b[38;5;66;03m# making any extra API calls if the previous loop\u001b[39;00m\n\u001b[32m   1655\u001b[39m     \u001b[38;5;66;03m# iteration fetched the finished job.\u001b[39;00m\n\u001b[32m   1656\u001b[39m     \u001b[38;5;28mself\u001b[39m._reload_query_results(\n\u001b[32m   1657\u001b[39m         retry=retry, **reload_query_results_kwargs\n\u001b[32m   1658\u001b[39m     )\n",
      "\u001b[31mBadRequest\u001b[39m: 400 Partitioning by expressions of type FLOAT64 is not allowed at [4:101]; reason: invalidQuery, location: query, message: Partitioning by expressions of type FLOAT64 is not allowed at [4:101]\n\nLocation: US\nJob ID: 750846a6-eaba-4104-82a5-6c016f045012\n"
     ]
    }
   ],
   "source": [
    "# Script to delete duplicates in each stage table based on all columns\n",
    "stage_tables = [\n",
    "    \"stage_customers\",\n",
    "    \"stage_products\",\n",
    "    \"stage_transactions\",\n",
    "    \"stage_stores\"\n",
    "]\n",
    "\n",
    "# 1. Check for primary key uniqueness\n",
    "for table in stage_tables:\n",
    "    table_ref = f\"{client.project}.{dataset_id}.{table}\"\n",
    "    schema = client.get_table(table_ref).schema\n",
    "    pk_column = schema[0].name  # Assuming first column is primary key\n",
    "    pk_check_query = f\"\"\"\n",
    "    SELECT {pk_column}, COUNT(*) as count\n",
    "    FROM `{table_ref}`\n",
    "    GROUP BY {pk_column}\n",
    "    HAVING count > 1\n",
    "    \"\"\"\n",
    "    pk_duplicates = client.query(pk_check_query).to_dataframe()\n",
    "    print(f\"Primary key duplicates in {table}:\", len(pk_duplicates))\n"
   ]
  },
  {
   "cell_type": "code",
   "execution_count": 3,
   "id": "19f46d71",
   "metadata": {},
   "outputs": [
    {
     "data": {
      "application/vnd.jupyter.widget-view+json": {
       "model_id": "9220172746644b3a9e28430e8c241b89",
       "version_major": 2,
       "version_minor": 0
      },
      "text/plain": [
       "Query is running:   0%|          |"
      ]
     },
     "metadata": {},
     "output_type": "display_data"
    },
    {
     "data": {
      "application/vnd.jupyter.widget-view+json": {
       "model_id": "8af9041728cf49c78a9751ccfe2524f1",
       "version_major": 2,
       "version_minor": 0
      },
      "text/plain": [
       "Downloading:   0%|          |"
      ]
     },
     "metadata": {},
     "output_type": "display_data"
    },
    {
     "data": {
      "text/html": [
       "<div>\n",
       "<style scoped>\n",
       "    .dataframe tbody tr th:only-of-type {\n",
       "        vertical-align: middle;\n",
       "    }\n",
       "\n",
       "    .dataframe tbody tr th {\n",
       "        vertical-align: top;\n",
       "    }\n",
       "\n",
       "    .dataframe thead th {\n",
       "        text-align: right;\n",
       "    }\n",
       "</style>\n",
       "<table border=\"1\" class=\"dataframe\">\n",
       "  <thead>\n",
       "    <tr style=\"text-align: right;\">\n",
       "      <th></th>\n",
       "      <th>payment_method</th>\n",
       "    </tr>\n",
       "  </thead>\n",
       "  <tbody>\n",
       "    <tr>\n",
       "      <th>0</th>\n",
       "      <td>Credit Card</td>\n",
       "    </tr>\n",
       "    <tr>\n",
       "      <th>1</th>\n",
       "      <td>Paypal</td>\n",
       "    </tr>\n",
       "    <tr>\n",
       "      <th>2</th>\n",
       "      <td>Cash</td>\n",
       "    </tr>\n",
       "    <tr>\n",
       "      <th>3</th>\n",
       "      <td>PayPal</td>\n",
       "    </tr>\n",
       "    <tr>\n",
       "      <th>4</th>\n",
       "      <td>Bank Transfer</td>\n",
       "    </tr>\n",
       "    <tr>\n",
       "      <th>5</th>\n",
       "      <td>Debit Card</td>\n",
       "    </tr>\n",
       "  </tbody>\n",
       "</table>\n",
       "</div>"
      ],
      "text/plain": [
       "  payment_method\n",
       "0    Credit Card\n",
       "1         Paypal\n",
       "2           Cash\n",
       "3         PayPal\n",
       "4  Bank Transfer\n",
       "5     Debit Card"
      ]
     },
     "execution_count": 3,
     "metadata": {},
     "output_type": "execute_result"
    }
   ],
   "source": [
    "%%bqsql\n",
    "select distinct payment_method from salesforce-465614.cust_analytics.stage_transactions;"
   ]
  },
  {
   "cell_type": "code",
   "execution_count": 4,
   "id": "6f64ed73",
   "metadata": {},
   "outputs": [
    {
     "data": {
      "application/vnd.jupyter.widget-view+json": {
       "model_id": "93649d8deba24f1a96aca0ae8818f8de",
       "version_major": 2,
       "version_minor": 0
      },
      "text/plain": [
       "Query is running:   0%|          |"
      ]
     },
     "metadata": {},
     "output_type": "display_data"
    },
    {
     "data": {
      "text/html": [
       "<div>\n",
       "<style scoped>\n",
       "    .dataframe tbody tr th:only-of-type {\n",
       "        vertical-align: middle;\n",
       "    }\n",
       "\n",
       "    .dataframe tbody tr th {\n",
       "        vertical-align: top;\n",
       "    }\n",
       "\n",
       "    .dataframe thead th {\n",
       "        text-align: right;\n",
       "    }\n",
       "</style>\n",
       "<table border=\"1\" class=\"dataframe\">\n",
       "  <thead>\n",
       "    <tr style=\"text-align: right;\">\n",
       "      <th></th>\n",
       "    </tr>\n",
       "  </thead>\n",
       "  <tbody>\n",
       "  </tbody>\n",
       "</table>\n",
       "</div>"
      ],
      "text/plain": [
       "Empty DataFrame\n",
       "Columns: []\n",
       "Index: []"
      ]
     },
     "execution_count": 4,
     "metadata": {},
     "output_type": "execute_result"
    }
   ],
   "source": [
    "%%bqsql\n",
    "update salesforce-465614.cust_analytics.stage_transactions\n",
    "set payment_method = 'PayPal'\n",
    "where lower(payment_method) = 'paypal'"
   ]
  }
 ],
 "metadata": {
  "kernelspec": {
   "display_name": "Python 3",
   "language": "python",
   "name": "python3"
  },
  "language_info": {
   "codemirror_mode": {
    "name": "ipython",
    "version": 3
   },
   "file_extension": ".py",
   "mimetype": "text/x-python",
   "name": "python",
   "nbconvert_exporter": "python",
   "pygments_lexer": "ipython3",
   "version": "3.12.4"
  }
 },
 "nbformat": 4,
 "nbformat_minor": 5
}
