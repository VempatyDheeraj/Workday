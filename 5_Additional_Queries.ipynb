{
 "cells": [
  {
   "cell_type": "markdown",
   "id": "13549835",
   "metadata": {},
   "source": [
    "Additional Data Quality Checks"
   ]
  },
  {
   "cell_type": "code",
   "execution_count": null,
   "id": "1d694119",
   "metadata": {},
   "outputs": [],
   "source": [
    "# 2. Check for data type consistency\n",
    "for table in stage_tables:\n",
    "    table_ref = f\"{client.project}.{dataset_id}.{table}\"\n",
    "    schema = client.get_table(table_ref).schema\n",
    "    for field in schema:\n",
    "        if field.field_type in ['INT64', 'FLOAT64', 'NUMERIC']:\n",
    "            query = f\"\"\"\n",
    "            SELECT COUNT(*) as invalid_count\n",
    "            FROM `{table_ref}`\n",
    "            WHERE SAFE_CAST({field.name} AS {field.field_type}) IS NULL\n",
    "            AND {field.name} IS NOT NULL\n",
    "            \"\"\"\n",
    "            result = client.query(query).to_dataframe()\n",
    "            print(f\"Invalid numeric values in {table}.{field.name}:\", result['invalid_count'].iloc[0])\n",
    "\n",
    "# 4. Check for referential integrity\n",
    "if 'stage_transactions' in stage_tables:\n",
    "    ref_check_query = f\"\"\"\n",
    "    SELECT COUNT(*) as orphaned_records\n",
    "    FROM `{client.project}.{dataset_id}.stage_transactions` t\n",
    "    LEFT JOIN `{client.project}.{dataset_id}.stage_customers` c\n",
    "    ON t.customer_id = c.customer_id\n",
    "    WHERE c.customer_id IS NULL\n",
    "    \"\"\"\n",
    "    orphaned = client.query(ref_check_query).to_dataframe()\n",
    "    print(\"Orphaned transaction records:\", orphaned['orphaned_records'].iloc[0])\n",
    "\n",
    "# 5. Check for mandatory fields\n",
    "for table in stage_tables:\n",
    "    table_ref = f\"{client.project}.{dataset_id}.{table}\"\n",
    "    schema = client.get_table(table_ref).schema\n",
    "    for field in schema:\n",
    "        query = f\"\"\"\n",
    "        SELECT COUNT(*) as null_count\n",
    "        FROM `{table_ref}`\n",
    "        WHERE {field.name} IS NULL\n",
    "        \"\"\"\n",
    "        nulls = client.query(query).to_dataframe()\n",
    "        print(f\"Null values in {table}.{field.name}:\", nulls['null_count'].iloc[0])\n",
    "\n",
    "# Original duplicate removal code\n",
    "for table in stage_tables:\n",
    "    table_ref = f\"{client.project}.{dataset_id}.{table}\"\n",
    "    schema = client.get_table(table_ref).schema\n",
    "    columns = [field.name for field in schema]\n",
    "    col_list = \", \".join(columns)\n",
    "    delete_duplicates_query = f\"\"\"\n",
    "    CREATE OR REPLACE TABLE `{table_ref}` AS\n",
    "    SELECT * EXCEPT(row_num) FROM (\n",
    "        SELECT *, ROW_NUMBER() OVER (PARTITION BY {col_list}) as row_num\n",
    "        FROM `{table_ref}`\n",
    "    )\n",
    "    WHERE row_num = 1\n",
    "    \"\"\"\n",
    "    client.query(delete_duplicates_query).result()\n",
    "    print(f\"Duplicates removed from {table}\")\n"
   ]
  }
 ],
 "metadata": {
  "language_info": {
   "name": "python"
  }
 },
 "nbformat": 4,
 "nbformat_minor": 5
}
