{
 "cells": [
  {
   "cell_type": "code",
   "execution_count": 1,
   "id": "9e7d1464",
   "metadata": {},
   "outputs": [
    {
     "name": "stdout",
     "output_type": "stream",
     "text": [
      "Note: you may need to restart the kernel to use updated packages.\n"
     ]
    },
    {
     "name": "stderr",
     "output_type": "stream",
     "text": [
      "\n",
      "[notice] A new release of pip is available: 24.0 -> 25.1.1\n",
      "[notice] To update, run: python.exe -m pip install --upgrade pip\n"
     ]
    },
    {
     "name": "stdout",
     "output_type": "stream",
     "text": [
      "Note: you may need to restart the kernel to use updated packages.\n"
     ]
    },
    {
     "name": "stderr",
     "output_type": "stream",
     "text": [
      "\n",
      "[notice] A new release of pip is available: 24.0 -> 25.1.1\n",
      "[notice] To update, run: python.exe -m pip install --upgrade pip\n",
      "\n",
      "[notice] A new release of pip is available: 24.0 -> 25.1.1\n",
      "[notice] To update, run: python.exe -m pip install --upgrade pip\n"
     ]
    },
    {
     "name": "stdout",
     "output_type": "stream",
     "text": [
      "Note: you may need to restart the kernel to use updated packages.\n"
     ]
    }
   ],
   "source": [
    "# Install BigQuery client library (run this cell once)\n",
    "%pip install google-cloud-bigquery --quiet\n",
    "%pip install bigquery-magics --quiet\n",
    "%pip install db-dtypes --quiet\n",
    "# Import libraries\n",
    "from google.cloud import bigquery\n",
    "import pandas as pd\n",
    "%load_ext bigquery_magics\n",
    "import db_dtypes\n",
    "import os\n",
    "os.environ[\"GOOGLE_APPLICATION_CREDENTIALS\"] = \"salesforce-465614-2cf9e37da64b.json\"\n",
    "from google.cloud import bigquery\n",
    "# Initialize BigQuery client\n",
    "client = bigquery.Client()"
   ]
  },
  {
   "cell_type": "markdown",
   "id": "583466f5",
   "metadata": {},
   "source": [
    "<b>Entry in ETL Job Monitoring table</b>"
   ]
  },
  {
   "cell_type": "code",
   "execution_count": null,
   "id": "f18f159d",
   "metadata": {},
   "outputs": [
    {
     "name": "stderr",
     "output_type": "stream",
     "text": [
      "C:\\Users\\Home\\AppData\\Local\\Temp\\ipykernel_23652\\2317656597.py:7: DeprecationWarning: datetime.datetime.utcnow() is deprecated and scheduled for removal in a future version. Use timezone-aware objects to represent datetimes in UTC: datetime.datetime.now(datetime.UTC).\n",
      "  job_run_date = datetime.utcnow().date()\n",
      "C:\\Users\\Home\\AppData\\Local\\Temp\\ipykernel_23652\\2317656597.py:8: DeprecationWarning: datetime.datetime.utcnow() is deprecated and scheduled for removal in a future version. Use timezone-aware objects to represent datetimes in UTC: datetime.datetime.now(datetime.UTC).\n",
      "  start_time = datetime.utcnow()\n"
     ]
    },
    {
     "data": {
      "text/plain": [
       "<google.cloud.bigquery.table._EmptyRowIterator at 0x1b4dc571670>"
      ]
     },
     "execution_count": 2,
     "metadata": {},
     "output_type": "execute_result"
    }
   ],
   "source": [
    "from datetime import datetime\n",
    "from google.cloud import bigquery\n",
    "# Set monitoring table and module name\n",
    "monitoring_table = \"salesforce-465614.cust_analytics.etl_job_monitoring\"\n",
    "module_name = \"Stage_to_Persistent_Layer\"\n",
    "job_run_date = datetime.utcnow().date()\n",
    "start_time = datetime.utcnow()\n",
    "# Insert start record\n",
    "insert_start = f\"\"\"\n",
    "INSERT INTO `{monitoring_table}` (job_run_date, module_name, start_time, status)\n",
    "VALUES (DATE('{job_run_date}'), '{module_name}', TIMESTAMP('{start_time}'), 'Running')\n",
    "\"\"\"\n",
    "client.query(insert_start).result()"
   ]
  },
  {
   "cell_type": "markdown",
   "id": "c5105ed4",
   "metadata": {},
   "source": [
    "<b>Stage to Persistent Layer</b>"
   ]
  },
  {
   "cell_type": "code",
   "execution_count": null,
   "id": "8d95b475",
   "metadata": {},
   "outputs": [
    {
     "name": "stdout",
     "output_type": "stream",
     "text": [
      "load from stage_customers to dim_customers completed.\n",
      "stage_stores to dim_stores load is completed.\n",
      "stage_products to dim_products load is completed.\n"
     ]
    },
    {
     "name": "stderr",
     "output_type": "stream",
     "text": [
      "C:\\Users\\Home\\AppData\\Local\\Temp\\ipykernel_23652\\2727902827.py:89: DeprecationWarning: datetime.datetime.utcnow() is deprecated and scheduled for removal in a future version. Use timezone-aware objects to represent datetimes in UTC: datetime.datetime.now(datetime.UTC).\n",
      "  end_time = datetime.utcnow()\n"
     ]
    }
   ],
   "source": [
    "from google.cloud import bigquery\n",
    "#Load to Dim_Customers\n",
    "dim_customer_query = f\"\"\"\n",
    "MERGE `salesforce-465614.cust_analytics.dim_customers` T\n",
    "USING `salesforce-465614.cust_analytics.stage_customers` S\n",
    "ON T.customer_id = S.customer_id AND T.is_current = TRUE\n",
    "WHEN MATCHED AND (\n",
    "    T.first_name != S.first_name OR\n",
    "    T.last_name != S.last_name OR\n",
    "    T.gender != S.gender OR\n",
    "    T.age != S.age OR\n",
    "    T.signup_date != S.signup_date OR\n",
    "    cast(T.loyalty_program as string) != CAST(S.loyalty_program AS string) OR\n",
    "    T.email != S.email OR\n",
    "    T.city != S.city OR\n",
    "    T.state != S.state OR\n",
    "    T.country != S.country\n",
    ")\n",
    "THEN\n",
    "  UPDATE SET\n",
    "    T.end_date = CURRENT_DATE(),\n",
    "    T.is_current = FALSE\n",
    "\n",
    "WHEN NOT MATCHED BY TARGET\n",
    "THEN\n",
    "  INSERT (\n",
    "    customer_id, first_name, last_name, gender, age, signup_date, loyalty_program, email, city, state, country, start_date, end_date, is_current\n",
    "  )\n",
    "  VALUES (\n",
    "    S.customer_id, S.first_name, S.last_name, S.gender, S.age, S.signup_date, CAST(S.loyalty_program AS string), S.email, S.city, S.state, S.country, CURRENT_DATE(), NULL, TRUE\n",
    "  )\n",
    "\"\"\"\n",
    "# Load to Dim_stores\n",
    "dim_stores_query = f\"\"\"\n",
    "MERGE `salesforce-465614.cust_analytics.dim_stores` T\n",
    "USING `salesforce-465614.cust_analytics.stage_stores` S\n",
    "ON T.store_id = S.string_field_0 AND T.is_current = TRUE\n",
    "WHEN MATCHED AND (\n",
    "    T.store_type != S.string_field_1 OR\n",
    "    T.store_location != S.string_field_2 OR\n",
    "    T.region != S.string_field_3\n",
    ")\n",
    "THEN\n",
    "  UPDATE SET\n",
    "    T.end_date = CURRENT_DATE(),\n",
    "    T.is_current = FALSE\n",
    "WHEN NOT MATCHED BY TARGET\n",
    "THEN\n",
    "  INSERT (\n",
    "    store_id, store_type, store_location, region, start_date, end_date, is_current\n",
    "  )\n",
    "  VALUES (\n",
    "    S.string_field_0, S.string_field_1, S.string_field_2, S.string_field_3, CURRENT_DATE(), NULL, TRUE\n",
    "  )\n",
    "\"\"\"\n",
    "# Load to dim_products\n",
    "dim_products_query = f\"\"\"\n",
    "MERGE `salesforce-465614.cust_analytics.dim_products` T\n",
    "USING `salesforce-465614.cust_analytics.stage_products` S\n",
    "ON T.product_id = S.product_id AND T.is_current = TRUE\n",
    "WHEN MATCHED AND (\n",
    "    T.product_name != S.product_name OR\n",
    "    T.category != S.category OR\n",
    "    T.sub_category != S.sub_category OR\n",
    "    T.price != S.price\n",
    ")\n",
    "THEN\n",
    "  UPDATE SET\n",
    "    T.end_date = CURRENT_DATE(),\n",
    "    T.is_current = FALSE\n",
    "WHEN NOT MATCHED BY TARGET\n",
    "THEN\n",
    "  INSERT (\n",
    "    product_id, product_name, category, sub_category, price, start_date, end_date, is_current\n",
    "  )\n",
    "  VALUES (\n",
    "    S.product_id, S.product_name, S.category, S.sub_category, S.price, CURRENT_DATE(), NULL, TRUE\n",
    "  )\n",
    "\"\"\"\n",
    "fact_transactions_query = f\"\"\"\n",
    "  MERGE `salesforce-465614.cust_analytics.fact_transactions` T\n",
    "USING `salesforce-465614.cust_analytics.stage_transactions` S\n",
    "ON T.transaction_id = S.Transaction_id AND T.is_current = TRUE\n",
    "WHEN MATCHED AND (\n",
    "    T.customer_id != S.Customer_ID OR\n",
    "    T.product_id != S.Product_id OR\n",
    "    T.Store_id != S.Store_id OR\n",
    "    T.Purchase_Date != S.Purchase_Date OR\n",
    "    T.Unit_Price != S.Unit_Price OR\n",
    "    T.quantity != S.Quantity OR\n",
    "    T.Total_Price != S.Total_Price OR\n",
    "    T.Payment_Method != S.Payment_Method OR\n",
    "    T.Order_Status != S.Order_Status\n",
    ")\n",
    "THEN\n",
    "  UPDATE SET\n",
    "    T.end_date = CURRENT_DATE(),\n",
    "    T.is_current = FALSE\n",
    "WHEN NOT MATCHED BY TARGET\n",
    "THEN\n",
    "  INSERT (\n",
    "    transaction_id, customer_id, product_id, Store_id, Purchase_Date, Unit_Price, quantity, Total_Price, Payment_Method, Order_Status, start_date, end_date, is_current\n",
    "  )\n",
    "  VALUES (\n",
    "    S.Transaction_id, S.Customer_ID, S.Product_id, S.Store_id, S.Purchase_Date, S.Unit_Price, S.Quantity, S.Total_Price, S.Payment_Method, S.Order_Status, CURRENT_DATE(), NULL, TRUE\n",
    "  );\n",
    "  \"\"\"\n",
    "\n",
    "\n",
    "job = client.query(dim_customer_query)\n",
    "job.result()\n",
    "print(\"load from stage_customers to dim_customers completed.\")\n",
    "client.query(dim_stores_query).result()\n",
    "print(\"stage_stores to dim_stores load is completed.\")\n",
    "client.query(dim_products_query).result()\n",
    "print(\"stage_products to dim_products load is completed.\")\n",
    "client.query(fact_transactions_query).result()\n",
    "print(\"Stage_transactions to fact_transactions load is completed.\")\n",
    "\n",
    "try:\n",
    "    end_time = datetime.utcnow()\n",
    "    update_success = f\"\"\"\n",
    "    UPDATE `{monitoring_table}`\n",
    "    SET end_time = TIMESTAMP('{end_time}'), status = 'Success'\n",
    "    WHERE job_run_date = DATE('{job_run_date}') AND module_name = '{module_name}' AND start_time = TIMESTAMP('{start_time}')\n",
    "    \"\"\"\n",
    "    client.query(update_success).result()\n",
    "except Exception as e:\n",
    "    # Update status as Failed\n",
    "    fail_time = datetime.utcnow()\n",
    "    update_failed = f\"\"\"\n",
    "    UPDATE `{monitoring_table}`\n",
    "    SET end_time = TIMESTAMP('{fail_time}'), status = 'Failed'\n",
    "    WHERE job_run_date = DATE('{job_run_date}') AND module_name = '{module_name}' AND start_time = TIMESTAMP('{start_time}')\n",
    "    \"\"\"\n",
    "    client.query(update_failed).result()\n",
    "    print(\"ETL job failed:\", e)\n",
    "    raise"
   ]
  },
  {
   "cell_type": "code",
   "execution_count": null,
   "id": "790501d3",
   "metadata": {},
   "outputs": [],
   "source": []
  },
  {
   "cell_type": "code",
   "execution_count": null,
   "id": "065b9ef7",
   "metadata": {},
   "outputs": [],
   "source": []
  }
 ],
 "metadata": {
  "kernelspec": {
   "display_name": "Python 3",
   "language": "python",
   "name": "python3"
  },
  "language_info": {
   "codemirror_mode": {
    "name": "ipython",
    "version": 3
   },
   "file_extension": ".py",
   "mimetype": "text/x-python",
   "name": "python",
   "nbconvert_exporter": "python",
   "pygments_lexer": "ipython3",
   "version": "3.12.4"
  }
 },
 "nbformat": 4,
 "nbformat_minor": 5
}
